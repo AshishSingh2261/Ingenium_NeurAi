{
  "nbformat": 4,
  "nbformat_minor": 0,
  "metadata": {
    "kernelspec": {
      "language": "python",
      "display_name": "Python 3",
      "name": "python3"
    },
    "language_info": {
      "name": "python",
      "version": "3.7.10",
      "mimetype": "text/x-python",
      "codemirror_mode": {
        "name": "ipython",
        "version": 3
      },
      "pygments_lexer": "ipython3",
      "nbconvert_exporter": "python",
      "file_extension": ".py"
    },
    "colab": {
      "name": "survival-prediction (1).ipynb",
      "provenance": []
    }
  },
  "cells": [
    {
      "cell_type": "markdown",
      "metadata": {
        "id": "ASHjkxKrhX_W"
      },
      "source": [
        "# Setup env"
      ]
    },
    {
      "cell_type": "code",
      "metadata": {
        "id": "G6B9SWVphX_b"
      },
      "source": [
        "import os\n",
        "import cv2\n",
        "import glob\n",
        "import shutil\n",
        "import numpy as np\n",
        "import pandas as pd\n",
        "import seaborn as sns\n",
        "import matplotlib.pyplot as plt\n",
        "\n",
        "\n",
        "# neural imaging\n",
        "import nilearn as nl\n",
        "import nibabel as nib\n",
        "import nilearn.plotting as nlplt\n",
        "\n",
        "\n",
        "# ml libs\n",
        "import keras\n",
        "import keras.backend as K\n",
        "from keras.callbacks import CSVLogger\n",
        "from keras.utils.np_utils import to_categorical   \n",
        "from sklearn.metrics import log_loss\n",
        "from sklearn.preprocessing import MinMaxScaler\n",
        "from sklearn.metrics import classification_report\n",
        "from sklearn.model_selection import train_test_split\n",
        "import tensorflow as tf\n",
        "from tensorflow.keras.models import *\n",
        "from tensorflow.keras.layers import *\n",
        "from tensorflow.keras.optimizers import *\n",
        "from tensorflow.keras.utils import plot_model\n",
        "from tensorflow.keras.layers.experimental import preprocessing\n",
        "from tensorflow.keras.callbacks import ModelCheckpoint, ReduceLROnPlateau, EarlyStopping, TensorBoard\n"
      ],
      "execution_count": null,
      "outputs": []
    },
    {
      "cell_type": "markdown",
      "metadata": {
        "id": "ypZr_S1xhX_d"
      },
      "source": [
        "# Let's view the data "
      ]
    },
    {
      "cell_type": "code",
      "metadata": {
        "execution": {
          "iopub.status.busy": "2021-11-13T12:07:38.977333Z",
          "iopub.execute_input": "2021-11-13T12:07:38.977696Z",
          "iopub.status.idle": "2021-11-13T12:07:39.016100Z",
          "shell.execute_reply.started": "2021-11-13T12:07:38.977666Z",
          "shell.execute_reply": "2021-11-13T12:07:39.015407Z"
        },
        "trusted": true,
        "id": "wfmGhiUnhX_e"
      },
      "source": [
        "data = pd.read_csv('../input/brats20-dataset-training-validation/BraTS2020_TrainingData/MICCAI_BraTS2020_TrainingData/survival_info.csv')"
      ],
      "execution_count": null,
      "outputs": []
    },
    {
      "cell_type": "markdown",
      "metadata": {
        "id": "nLZDIQIGhX_e"
      },
      "source": [
        "**We are given the age, number of days the patient can survive and the extent of resection [resection means The complete removal of some brain tumors]**"
      ]
    },
    {
      "cell_type": "code",
      "metadata": {
        "execution": {
          "iopub.status.busy": "2021-11-13T12:07:59.354369Z",
          "iopub.execute_input": "2021-11-13T12:07:59.354930Z",
          "iopub.status.idle": "2021-11-13T12:07:59.369162Z",
          "shell.execute_reply.started": "2021-11-13T12:07:59.354891Z",
          "shell.execute_reply": "2021-11-13T12:07:59.368250Z"
        },
        "trusted": true,
        "id": "leg4J7jnhX_f",
        "outputId": "7171b6df-c5d1-4c0f-834a-5eeda04e5980"
      },
      "source": [
        "data.head()"
      ],
      "execution_count": null,
      "outputs": [
        {
          "execution_count": 6,
          "output_type": "execute_result",
          "data": {
            "text/plain": "              Brats20ID     Age Survival_days Extent_of_Resection\n0  BraTS20_Training_001  60.463           289                 GTR\n1  BraTS20_Training_002  52.263           616                 GTR\n2  BraTS20_Training_003  54.301           464                 GTR\n3  BraTS20_Training_004  39.068           788                 GTR\n4  BraTS20_Training_005  68.493           465                 GTR",
            "text/html": "<div>\n<style scoped>\n    .dataframe tbody tr th:only-of-type {\n        vertical-align: middle;\n    }\n\n    .dataframe tbody tr th {\n        vertical-align: top;\n    }\n\n    .dataframe thead th {\n        text-align: right;\n    }\n</style>\n<table border=\"1\" class=\"dataframe\">\n  <thead>\n    <tr style=\"text-align: right;\">\n      <th></th>\n      <th>Brats20ID</th>\n      <th>Age</th>\n      <th>Survival_days</th>\n      <th>Extent_of_Resection</th>\n    </tr>\n  </thead>\n  <tbody>\n    <tr>\n      <th>0</th>\n      <td>BraTS20_Training_001</td>\n      <td>60.463</td>\n      <td>289</td>\n      <td>GTR</td>\n    </tr>\n    <tr>\n      <th>1</th>\n      <td>BraTS20_Training_002</td>\n      <td>52.263</td>\n      <td>616</td>\n      <td>GTR</td>\n    </tr>\n    <tr>\n      <th>2</th>\n      <td>BraTS20_Training_003</td>\n      <td>54.301</td>\n      <td>464</td>\n      <td>GTR</td>\n    </tr>\n    <tr>\n      <th>3</th>\n      <td>BraTS20_Training_004</td>\n      <td>39.068</td>\n      <td>788</td>\n      <td>GTR</td>\n    </tr>\n    <tr>\n      <th>4</th>\n      <td>BraTS20_Training_005</td>\n      <td>68.493</td>\n      <td>465</td>\n      <td>GTR</td>\n    </tr>\n  </tbody>\n</table>\n</div>"
          },
          "metadata": {}
        }
      ]
    },
    {
      "cell_type": "markdown",
      "metadata": {
        "id": "p4zPYQTDhX_h"
      },
      "source": [
        "**let's drop all the nan from the data**"
      ]
    },
    {
      "cell_type": "code",
      "metadata": {
        "execution": {
          "iopub.status.busy": "2021-11-13T12:08:00.300525Z",
          "iopub.execute_input": "2021-11-13T12:08:00.300838Z",
          "iopub.status.idle": "2021-11-13T12:08:00.306787Z",
          "shell.execute_reply.started": "2021-11-13T12:08:00.300804Z",
          "shell.execute_reply": "2021-11-13T12:08:00.306237Z"
        },
        "trusted": true,
        "id": "apr7d6gphX_j"
      },
      "source": [
        "data = data.dropna()"
      ],
      "execution_count": null,
      "outputs": []
    },
    {
      "cell_type": "code",
      "metadata": {
        "execution": {
          "iopub.status.busy": "2021-11-13T12:19:23.917008Z",
          "iopub.execute_input": "2021-11-13T12:19:23.917570Z",
          "iopub.status.idle": "2021-11-13T12:19:23.966441Z",
          "shell.execute_reply.started": "2021-11-13T12:19:23.917528Z",
          "shell.execute_reply": "2021-11-13T12:19:23.965797Z"
        },
        "trusted": true,
        "id": "92nxH6YshX_j"
      },
      "source": [
        "train_and_val_directories = [f.path for f in os.scandir(TRAIN_DATASET_PATH) if f.is_dir()]\n",
        "# file BraTS20_Training_355 has ill formatted name for for seg.nii file\n",
        "train_and_val_directories.remove(TRAIN_DATASET_PATH+'BraTS20_Training_355')\n",
        "\n",
        "\n",
        "def pathListIntoIds(dirList):\n",
        "    x = []\n",
        "    for i in range(0,len(dirList)):\n",
        "        x.append(dirList[i][dirList[i].rfind('/')+1:])\n",
        "    return x\n",
        "\n",
        "train_and_test_ids = pathListIntoIds(train_and_val_directories); "
      ],
      "execution_count": null,
      "outputs": []
    },
    {
      "cell_type": "markdown",
      "metadata": {
        "id": "PuCQxDAXhX_k"
      },
      "source": [
        "**Here we are making 3 categories based on the days that the patient survived**"
      ]
    },
    {
      "cell_type": "code",
      "metadata": {
        "execution": {
          "iopub.status.busy": "2021-11-13T12:13:33.442493Z",
          "iopub.execute_input": "2021-11-13T12:13:33.443731Z",
          "iopub.status.idle": "2021-11-13T12:13:33.451102Z",
          "shell.execute_reply.started": "2021-11-13T12:13:33.443670Z",
          "shell.execute_reply": "2021-11-13T12:13:33.450173Z"
        },
        "trusted": true,
        "id": "RPpk3O9shX_k"
      },
      "source": [
        "SEGMENT_CLASSES = {\n",
        "    0 : 'NOT tumor',\n",
        "    1 : 'NECROTIC/CORE', \n",
        "    2 : 'EDEMA',\n",
        "    3 : 'ENHANCING' # original 4 -> converted into 3 later\n",
        "}\n",
        "\n",
        "# days start interval\n",
        "SURVIVAL_CATEGORIES= {\n",
        "    'SHORT' : 0 , # 0-300\n",
        "    'MEDIUM' : 300,  # 300-450\n",
        "    'LONG' : 450, # 450 and more\n",
        "}\n",
        "\n",
        "# there are 155 slices per volume\n",
        "# to start at 5 and use 145 slices means we will skip the first 5 and last 5 \n",
        "VOLUME_SLICES = 100 \n",
        "VOLUME_START_AT = 22 # first slice of volume that we will include\n",
        "IMG_SIZE=128\n",
        "TRAIN_DATASET_PATH='../input/brats20-dataset-training-validation/BraTS2020_TrainingData/MICCAI_BraTS2020_TrainingData/'"
      ],
      "execution_count": null,
      "outputs": []
    },
    {
      "cell_type": "markdown",
      "metadata": {
        "id": "CNEMaQZwhX_l"
      },
      "source": [
        "# Volumetric analysis "
      ]
    },
    {
      "cell_type": "markdown",
      "metadata": {
        "id": "RbkVM3rwhX_l"
      },
      "source": [
        "**Now we will do the volumetric ananlysis of the brain tumors to use as features for our model that will predict the survivability of the patient**"
      ]
    },
    {
      "cell_type": "code",
      "metadata": {
        "execution": {
          "iopub.status.busy": "2021-11-13T12:14:10.800013Z",
          "iopub.execute_input": "2021-11-13T12:14:10.800796Z",
          "iopub.status.idle": "2021-11-13T12:14:10.807917Z",
          "shell.execute_reply.started": "2021-11-13T12:14:10.800745Z",
          "shell.execute_reply": "2021-11-13T12:14:10.807148Z"
        },
        "trusted": true,
        "id": "pTFs8FtThX_m"
      },
      "source": [
        "def getMaskSizesForVolume(image_volume):\n",
        "    totals = dict([(1, 0), (2, 0), (3, 0)])\n",
        "    for i in range(VOLUME_SLICES):\n",
        "        # flatten 2D image into 1D array and convert mask 4 to 2\n",
        "        arr=image_volume[:,:,i+VOLUME_START_AT].flatten()\n",
        "        arr[arr == 4] = 3\n",
        "        \n",
        "        unique, counts = np.unique(arr, return_counts=True)\n",
        "        unique = unique.astype(int)\n",
        "        values_dict=dict(zip(unique, counts))\n",
        "        for k in range(1,4):\n",
        "            totals[k] += values_dict.get(k,0)\n",
        "    return totals"
      ],
      "execution_count": null,
      "outputs": []
    },
    {
      "cell_type": "code",
      "metadata": {
        "execution": {
          "iopub.status.busy": "2021-11-13T12:14:23.974791Z",
          "iopub.execute_input": "2021-11-13T12:14:23.975246Z",
          "iopub.status.idle": "2021-11-13T12:14:24.605842Z",
          "shell.execute_reply.started": "2021-11-13T12:14:23.975165Z",
          "shell.execute_reply": "2021-11-13T12:14:24.605239Z"
        },
        "trusted": true,
        "id": "uQzyiIBwhX_m",
        "outputId": "40204851-9540-4839-cd73-2694a13188ce"
      },
      "source": [
        "def getBrainSizeForVolume(image_volume):\n",
        "    total = 0\n",
        "    for i in range(VOLUME_SLICES):\n",
        "        arr=image_volume[:,:,i+VOLUME_START_AT].flatten()\n",
        "        image_count=np.count_nonzero(arr)\n",
        "        total=total+image_count\n",
        "    return total\n",
        "\n",
        "example_volume=nib.load(TRAIN_DATASET_PATH+'BraTS20_Training_001/BraTS20_Training_001_t1.nii').get_fdata()\n",
        "\n",
        "f, axarr = plt.subplots(1,2, figsize = (8, 4))\n",
        "axarr[0].imshow(example_volume[:,:,VOLUME_START_AT])\n",
        "axarr[1].imshow(example_volume[:,:,VOLUME_START_AT+30])\n",
        "\n",
        "print(f'total count: {getBrainSizeForVolume(example_volume)}')"
      ],
      "execution_count": null,
      "outputs": [
        {
          "name": "stdout",
          "text": "total count: 1264556\n",
          "output_type": "stream"
        },
        {
          "output_type": "display_data",
          "data": {
            "text/plain": "<Figure size 576x288 with 2 Axes>",
            "image/png": "[encoded data removed]"
          },
          "metadata": {
            "needs_background": "light"
          }
        }
      ]
    },
    {
      "cell_type": "code",
      "metadata": {
        "execution": {
          "iopub.status.busy": "2021-11-13T12:24:20.457785Z",
          "iopub.execute_input": "2021-11-13T12:24:20.458049Z",
          "iopub.status.idle": "2021-11-13T12:24:20.471155Z",
          "shell.execute_reply.started": "2021-11-13T12:24:20.458020Z",
          "shell.execute_reply": "2021-11-13T12:24:20.470327Z"
        },
        "trusted": true,
        "id": "VsQO7UbghX_m",
        "outputId": "696deb31-7c56-495d-c00d-d3499adf02ef"
      },
      "source": [
        "import csv\n",
        "\n",
        "csv_path = '../input/brats20-dataset-training-validation/BraTS2020_TrainingData/MICCAI_BraTS2020_TrainingData/survival_info.csv'\n",
        "\n",
        "age_dict = {}\n",
        "days_dict = {}\n",
        "\n",
        "\n",
        "with open(csv_path, mode='r') as csv_file:\n",
        "    csv_reader = csv.reader(csv_file,delimiter = ',')\n",
        "  #  row_count = sum(1 for row in csv_reader)\n",
        " #   print(f'total rows: {row_count} .')\n",
        "    at_line = 0\n",
        "    category_short = 0\n",
        "    category_medium = 0\n",
        "    category_long = 0\n",
        "    max_days = 0\n",
        "    for row in csv_reader:\n",
        "        if at_line == 0:\n",
        "            print(f'Column names are {\", \".join(row)}')\n",
        "            at_line += 1\n",
        "        else:\n",
        "            if (row[3] != \"GTR\"):\n",
        "                continue\n",
        "            #print(row)\n",
        "            key = row[0]\n",
        "            age = row[1]\n",
        "            days = row[2]\n",
        "            if (not days.isnumeric()):\n",
        "                continue\n",
        "            age_dict[key] = float(age)\n",
        "            days_dict[key] = int(days)\n",
        "            max_days = max(max_days,int(days))\n",
        "            if int(days) < 250:\n",
        "                category_short += 1\n",
        "            elif (int(days) >= 250 and int(days) <= 450):\n",
        "                category_medium += 1\n",
        "            else:\n",
        "                category_long += 1\n",
        "            at_line+=1"
      ],
      "execution_count": null,
      "outputs": [
        {
          "name": "stdout",
          "text": "Column names are Brats20ID, Age, Survival_days, Extent_of_Resection\n",
          "output_type": "stream"
        }
      ]
    },
    {
      "cell_type": "code",
      "metadata": {
        "execution": {
          "iopub.status.busy": "2021-11-13T12:24:26.308917Z",
          "iopub.execute_input": "2021-11-13T12:24:26.309182Z",
          "iopub.status.idle": "2021-11-13T12:25:31.100787Z",
          "shell.execute_reply.started": "2021-11-13T12:24:26.309154Z",
          "shell.execute_reply": "2021-11-13T12:25:31.099912Z"
        },
        "trusted": true,
        "id": "S5gYshi1hX_n",
        "outputId": "936e5b3a-e52a-4b20-f42e-b7fab5ec8c88"
      },
      "source": [
        "def getListAgeDays(id_list):\n",
        "    x_val = []\n",
        "    y_val = []\n",
        "    for i in id_list:\n",
        "        if (i not in age_dict):\n",
        "            continue\n",
        "        masks = getMaskSizesForVolume(nib.load(TRAIN_DATASET_PATH + f'BraTS20_Training_{i[-3:]}/BraTS20_Training_{i[-3:]}_seg.nii').get_fdata())\n",
        "        brain_vol = getBrainSizeForVolume(nib.load(TRAIN_DATASET_PATH + f'BraTS20_Training_{i[-3:]}/BraTS20_Training_{i[-3:]}_t1.nii').get_fdata())\n",
        "        masks[1] = masks[1]/brain_vol\n",
        "        masks[2] = masks[2]/brain_vol\n",
        "        masks[3] = masks[3]/brain_vol\n",
        "        merged=[age_dict[i],masks[1],masks[2],masks[3]] ## add segments\n",
        "        x_val.append(merged) \n",
        "        if (days_dict[i] < 250):\n",
        "            y_val.append([1,0,0])\n",
        "        elif (days_dict[i] >= 250 and days_dict[i] < 450):\n",
        "            y_val.append([0,1,0])\n",
        "        else:\n",
        "            y_val.append([0,0,1])\n",
        "            \n",
        "    return np.array(x_val), np.array(y_val)\n",
        "\n",
        "X_all, y_all = getListAgeDays(train_and_test_ids)\n",
        "\n",
        "print(f'X_test: {X_all.shape}')\n",
        "df = pd.DataFrame(np.concatenate((X_all, y_all), axis=1) , columns = [\"age\",f\"{SEGMENT_CLASSES[1]}\",f\"{SEGMENT_CLASSES[2]}\",f\"{SEGMENT_CLASSES[3]}\",\"short\",\"medium\",\"long\"])\n",
        "df.head()"
      ],
      "execution_count": null,
      "outputs": [
        {
          "name": "stdout",
          "text": "X_test: (118, 4)\n",
          "output_type": "stream"
        },
        {
          "execution_count": 22,
          "output_type": "execute_result",
          "data": {
            "text/plain": "      age  NECROTIC/CORE     EDEMA  ENHANCING  short  medium  long\n0  54.915       0.002438  0.045368   0.005153    0.0     1.0   0.0\n1  57.000       0.015202  0.039171   0.019636    0.0     0.0   1.0\n2  60.000       0.004592  0.027417   0.030548    0.0     0.0   1.0\n3  83.649       0.039530  0.048636   0.025146    0.0     1.0   0.0\n4  60.019       0.000448  0.018200   0.007183    0.0     1.0   0.0",
            "text/html": "<div>\n<style scoped>\n    .dataframe tbody tr th:only-of-type {\n        vertical-align: middle;\n    }\n\n    .dataframe tbody tr th {\n        vertical-align: top;\n    }\n\n    .dataframe thead th {\n        text-align: right;\n    }\n</style>\n<table border=\"1\" class=\"dataframe\">\n  <thead>\n    <tr style=\"text-align: right;\">\n      <th></th>\n      <th>age</th>\n      <th>NECROTIC/CORE</th>\n      <th>EDEMA</th>\n      <th>ENHANCING</th>\n      <th>short</th>\n      <th>medium</th>\n      <th>long</th>\n    </tr>\n  </thead>\n  <tbody>\n    <tr>\n      <th>0</th>\n      <td>54.915</td>\n      <td>0.002438</td>\n      <td>0.045368</td>\n      <td>0.005153</td>\n      <td>0.0</td>\n      <td>1.0</td>\n      <td>0.0</td>\n    </tr>\n    <tr>\n      <th>1</th>\n      <td>57.000</td>\n      <td>0.015202</td>\n      <td>0.039171</td>\n      <td>0.019636</td>\n      <td>0.0</td>\n      <td>0.0</td>\n      <td>1.0</td>\n    </tr>\n    <tr>\n      <th>2</th>\n      <td>60.000</td>\n      <td>0.004592</td>\n      <td>0.027417</td>\n      <td>0.030548</td>\n      <td>0.0</td>\n      <td>0.0</td>\n      <td>1.0</td>\n    </tr>\n    <tr>\n      <th>3</th>\n      <td>83.649</td>\n      <td>0.039530</td>\n      <td>0.048636</td>\n      <td>0.025146</td>\n      <td>0.0</td>\n      <td>1.0</td>\n      <td>0.0</td>\n    </tr>\n    <tr>\n      <th>4</th>\n      <td>60.019</td>\n      <td>0.000448</td>\n      <td>0.018200</td>\n      <td>0.007183</td>\n      <td>0.0</td>\n      <td>1.0</td>\n      <td>0.0</td>\n    </tr>\n  </tbody>\n</table>\n</div>"
          },
          "metadata": {}
        }
      ]
    },
    {
      "cell_type": "markdown",
      "metadata": {
        "id": "a4jOIrlehX_o"
      },
      "source": [
        "**We round off the ages of every person in the data**"
      ]
    },
    {
      "cell_type": "code",
      "metadata": {
        "execution": {
          "iopub.status.busy": "2021-11-13T12:32:38.238571Z",
          "iopub.execute_input": "2021-11-13T12:32:38.239635Z",
          "iopub.status.idle": "2021-11-13T12:32:38.245356Z",
          "shell.execute_reply.started": "2021-11-13T12:32:38.239566Z",
          "shell.execute_reply": "2021-11-13T12:32:38.244552Z"
        },
        "trusted": true,
        "id": "y1gyG_L0hX_o"
      },
      "source": [
        "df['age'] = df['age'].apply(np.floor)"
      ],
      "execution_count": null,
      "outputs": []
    },
    {
      "cell_type": "markdown",
      "metadata": {
        "id": "1CPayFKIhX_o"
      },
      "source": [
        "**Here we normalize the data performing min-max scaling into range [0, 1]**"
      ]
    },
    {
      "cell_type": "code",
      "metadata": {
        "execution": {
          "iopub.status.busy": "2021-11-13T12:32:59.587599Z",
          "iopub.execute_input": "2021-11-13T12:32:59.588051Z",
          "iopub.status.idle": "2021-11-13T12:32:59.608443Z",
          "shell.execute_reply.started": "2021-11-13T12:32:59.588020Z",
          "shell.execute_reply": "2021-11-13T12:32:59.607684Z"
        },
        "trusted": true,
        "id": "XSZH7aZIhX_p",
        "outputId": "9721aa74-8de0-4cad-cdcf-c0fffa4eee6b"
      },
      "source": [
        "scaler = MinMaxScaler()\n",
        "v = X_all\n",
        "v_scaled = scaler.fit_transform(v)\n",
        "X_all = v_scaled\n",
        "\n",
        "df = pd.DataFrame(X_all, columns = [\"age normalised\",f\"{SEGMENT_CLASSES[1]}\",f\"{SEGMENT_CLASSES[2]}\",f\"{SEGMENT_CLASSES[3]}\"])\n",
        "display(df)"
      ],
      "execution_count": null,
      "outputs": [
        {
          "output_type": "display_data",
          "data": {
            "text/plain": "     age normalised  NECROTIC/CORE     EDEMA  ENHANCING\n0          0.460631       0.060053  0.330630   0.105513\n1          0.496066       0.374441  0.283556   0.406350\n2          0.547051       0.113117  0.194263   0.633018\n3          0.948964       0.973691  0.355460   0.520813\n4          0.547373       0.011033  0.124241   0.147677\n..              ...            ...       ...        ...\n113        1.000000       0.337023  0.507990   0.673251\n114        0.795687       0.207157  0.222702   0.605692\n115        0.779440       0.037349  0.208887   0.115095\n116        0.807277       0.383568  0.179196   0.338549\n117        0.371000       0.069379  0.095903   0.263933\n\n[118 rows x 4 columns]",
            "text/html": "<div>\n<style scoped>\n    .dataframe tbody tr th:only-of-type {\n        vertical-align: middle;\n    }\n\n    .dataframe tbody tr th {\n        vertical-align: top;\n    }\n\n    .dataframe thead th {\n        text-align: right;\n    }\n</style>\n<table border=\"1\" class=\"dataframe\">\n  <thead>\n    <tr style=\"text-align: right;\">\n      <th></th>\n      <th>age normalised</th>\n      <th>NECROTIC/CORE</th>\n      <th>EDEMA</th>\n      <th>ENHANCING</th>\n    </tr>\n  </thead>\n  <tbody>\n    <tr>\n      <th>0</th>\n      <td>0.460631</td>\n      <td>0.060053</td>\n      <td>0.330630</td>\n      <td>0.105513</td>\n    </tr>\n    <tr>\n      <th>1</th>\n      <td>0.496066</td>\n      <td>0.374441</td>\n      <td>0.283556</td>\n      <td>0.406350</td>\n    </tr>\n    <tr>\n      <th>2</th>\n      <td>0.547051</td>\n      <td>0.113117</td>\n      <td>0.194263</td>\n      <td>0.633018</td>\n    </tr>\n    <tr>\n      <th>3</th>\n      <td>0.948964</td>\n      <td>0.973691</td>\n      <td>0.355460</td>\n      <td>0.520813</td>\n    </tr>\n    <tr>\n      <th>4</th>\n      <td>0.547373</td>\n      <td>0.011033</td>\n      <td>0.124241</td>\n      <td>0.147677</td>\n    </tr>\n    <tr>\n      <th>...</th>\n      <td>...</td>\n      <td>...</td>\n      <td>...</td>\n      <td>...</td>\n    </tr>\n    <tr>\n      <th>113</th>\n      <td>1.000000</td>\n      <td>0.337023</td>\n      <td>0.507990</td>\n      <td>0.673251</td>\n    </tr>\n    <tr>\n      <th>114</th>\n      <td>0.795687</td>\n      <td>0.207157</td>\n      <td>0.222702</td>\n      <td>0.605692</td>\n    </tr>\n    <tr>\n      <th>115</th>\n      <td>0.779440</td>\n      <td>0.037349</td>\n      <td>0.208887</td>\n      <td>0.115095</td>\n    </tr>\n    <tr>\n      <th>116</th>\n      <td>0.807277</td>\n      <td>0.383568</td>\n      <td>0.179196</td>\n      <td>0.338549</td>\n    </tr>\n    <tr>\n      <th>117</th>\n      <td>0.371000</td>\n      <td>0.069379</td>\n      <td>0.095903</td>\n      <td>0.263933</td>\n    </tr>\n  </tbody>\n</table>\n<p>118 rows × 4 columns</p>\n</div>"
          },
          "metadata": {}
        }
      ]
    },
    {
      "cell_type": "markdown",
      "metadata": {
        "id": "sN3BW7JzhX_p"
      },
      "source": [
        "**Train test split**"
      ]
    },
    {
      "cell_type": "code",
      "metadata": {
        "execution": {
          "iopub.status.busy": "2021-11-13T12:53:54.112744Z",
          "iopub.execute_input": "2021-11-13T12:53:54.113576Z",
          "iopub.status.idle": "2021-11-13T12:53:54.121806Z",
          "shell.execute_reply.started": "2021-11-13T12:53:54.113526Z",
          "shell.execute_reply": "2021-11-13T12:53:54.120942Z"
        },
        "trusted": true,
        "id": "UoDLKHNohX_p",
        "outputId": "955afd44-9e7a-4a40-8ef6-82f53bef0722"
      },
      "source": [
        "X_train, X_test, y_train, y_test = train_test_split(X_all,y_all,test_size = 0.2, random_state = 42, shuffle = True)\n",
        "\n",
        "\n",
        "print(\"x_train shape:\",X_train.shape)\n",
        "print(\"x_test shape:\", X_train.shape)\n",
        "print(\"y_train shape:\",y_train.shape)\n",
        "print(\"y_test shape:\", y_test.shape)"
      ],
      "execution_count": null,
      "outputs": [
        {
          "name": "stdout",
          "text": "x_train shape: (94, 4)\nx_test shape: (94, 4)\ny_train shape: (94, 3)\ny_test shape: (24, 3)\n",
          "output_type": "stream"
        }
      ]
    },
    {
      "cell_type": "markdown",
      "metadata": {
        "id": "hkrs4CashX_q"
      },
      "source": [
        "# SVM classifier"
      ]
    },
    {
      "cell_type": "code",
      "metadata": {
        "execution": {
          "iopub.status.busy": "2021-11-13T12:55:42.411836Z",
          "iopub.execute_input": "2021-11-13T12:55:42.412185Z",
          "iopub.status.idle": "2021-11-13T12:55:42.443626Z",
          "shell.execute_reply.started": "2021-11-13T12:55:42.412146Z",
          "shell.execute_reply": "2021-11-13T12:55:42.443056Z"
        },
        "trusted": true,
        "id": "5NnIYazHhX_q",
        "outputId": "da6ad073-e024-4355-f925-518dc4d9dd5c"
      },
      "source": [
        "from sklearn.svm import SVC\n",
        "from sklearn.model_selection import GridSearchCV\n",
        "from sklearn.model_selection import cross_val_score\n",
        "from sklearn.metrics import accuracy_score\n",
        "\n",
        "#convert one hot into multilabel\n",
        "y_train_multi=np.argmax(y_train, axis=1)\n",
        "y_test_multi =np.argmax(y_test, axis=1)\n",
        "\n",
        "svc = SVC(random_state = 42, C=10, degree=3, gamma=1, kernel='poly')\n",
        "svc.fit(X_train,y_train_multi)\n",
        "accuracies = cross_val_score(svc, X_train, y_train_multi)\n",
        "\n",
        "\n",
        "y_pred = svc.predict(X_test)\n",
        "\n",
        "print('Model accuracy score : {0:0.4f}'. format(accuracy_score(y_test_multi, y_pred)))\n",
        "\n",
        "\n",
        "print(\"Cross validation: Train Score:\",np.mean(accuracies))\n",
        "print(\"Cross validation: Test Score:\",svc.score(X_test,y_test_multi))"
      ],
      "execution_count": null,
      "outputs": [
        {
          "name": "stdout",
          "text": "Model accuracy score : 0.5000\nCross validation: Train Score: 0.5216374269005847\nCross validation: Test Score: 0.5\n",
          "output_type": "stream"
        }
      ]
    },
    {
      "cell_type": "markdown",
      "metadata": {
        "id": "qIELiMtMhX_q"
      },
      "source": [
        "**model metrics**"
      ]
    },
    {
      "cell_type": "code",
      "metadata": {
        "execution": {
          "iopub.status.busy": "2021-11-13T12:56:10.466836Z",
          "iopub.execute_input": "2021-11-13T12:56:10.467695Z",
          "iopub.status.idle": "2021-11-13T12:56:10.477648Z",
          "shell.execute_reply.started": "2021-11-13T12:56:10.467642Z",
          "shell.execute_reply": "2021-11-13T12:56:10.476780Z"
        },
        "trusted": true,
        "id": "D_xNbXo0hX_q",
        "outputId": "fb3da6c4-aff8-43b5-a855-699b907d551c"
      },
      "source": [
        "print(classification_report(y_test_multi, y_pred))"
      ],
      "execution_count": null,
      "outputs": [
        {
          "name": "stdout",
          "text": "              precision    recall  f1-score   support\n\n           0       1.00      0.40      0.57         5\n           1       0.50      0.11      0.18         9\n           2       0.45      0.90      0.60        10\n\n    accuracy                           0.50        24\n   macro avg       0.65      0.47      0.45        24\nweighted avg       0.58      0.50      0.44        24\n\n",
          "output_type": "stream"
        }
      ]
    },
    {
      "cell_type": "code",
      "metadata": {
        "execution": {
          "iopub.status.busy": "2021-11-13T13:05:30.406243Z",
          "iopub.execute_input": "2021-11-13T13:05:30.406909Z",
          "iopub.status.idle": "2021-11-13T13:05:30.412794Z",
          "shell.execute_reply.started": "2021-11-13T13:05:30.406865Z",
          "shell.execute_reply": "2021-11-13T13:05:30.411952Z"
        },
        "trusted": true,
        "id": "RhuZihZMhX_r"
      },
      "source": [
        "pred = list()\n",
        "for y in y_pred:\n",
        "    if y== 0:\n",
        "        pred.append('severe')\n",
        "    if y == 1:\n",
        "        pred.append('medium')\n",
        "    else:\n",
        "        pred.append('early')"
      ],
      "execution_count": null,
      "outputs": []
    },
    {
      "cell_type": "markdown",
      "metadata": {
        "id": "AQ6XTC7WhX_r"
      },
      "source": [
        "# Predictions"
      ]
    },
    {
      "cell_type": "markdown",
      "metadata": {
        "id": "SaoLx5jJhX_r"
      },
      "source": [
        "**our model outputs the severity of the tumor which also tells us the survivability of our patient**"
      ]
    },
    {
      "cell_type": "code",
      "metadata": {
        "execution": {
          "iopub.status.busy": "2021-11-13T13:05:34.441060Z",
          "iopub.execute_input": "2021-11-13T13:05:34.441842Z",
          "iopub.status.idle": "2021-11-13T13:05:34.447024Z",
          "shell.execute_reply.started": "2021-11-13T13:05:34.441802Z",
          "shell.execute_reply": "2021-11-13T13:05:34.446515Z"
        },
        "trusted": true,
        "id": "pBnMGStQhX_r",
        "outputId": "cb65548b-f8d1-459f-c8f7-4afc3039f32f"
      },
      "source": [
        "pred"
      ],
      "execution_count": null,
      "outputs": [
        {
          "execution_count": 38,
          "output_type": "execute_result",
          "data": {
            "text/plain": "['early',\n 'early',\n 'early',\n 'early',\n 'early',\n 'medium',\n 'early',\n 'early',\n 'early',\n 'early',\n 'early',\n 'severe',\n 'early',\n 'early',\n 'severe',\n 'early',\n 'early',\n 'early',\n 'early',\n 'early',\n 'early',\n 'early',\n 'medium',\n 'early',\n 'early',\n 'early']"
          },
          "metadata": {}
        }
      ]
    }
  ]
}