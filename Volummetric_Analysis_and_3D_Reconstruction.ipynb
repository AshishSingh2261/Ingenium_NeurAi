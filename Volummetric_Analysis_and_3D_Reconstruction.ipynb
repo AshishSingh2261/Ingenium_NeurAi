{
 "cells": [
  {
   "cell_type": "markdown",
   "id": "e456dbb6",
   "metadata": {},
   "source": [
    "# Importing and Installing Libraries"
   ]
  },
  {
   "cell_type": "code",
   "execution_count": 1,
   "id": "96f9f214",
   "metadata": {},
   "outputs": [
    {
     "name": "stderr",
     "output_type": "stream",
     "text": [
      "C:\\ProgramData\\Anaconda3\\lib\\site-packages\\numpy\\_distributor_init.py:30: UserWarning: loaded more than 1 DLL from .libs:\n",
      "C:\\ProgramData\\Anaconda3\\lib\\site-packages\\numpy\\.libs\\libopenblas.WCDJNK7YVMPZQ2ME2ZZHJJRJ3JIKNDB7.gfortran-win_amd64.dll\n",
      "C:\\ProgramData\\Anaconda3\\lib\\site-packages\\numpy\\.libs\\libopenblas.XWYDX2IKJW2NMTWSFYNGFUWKQU3LYTCZ.gfortran-win_amd64.dll\n",
      "  warnings.warn(\"loaded more than 1 DLL from .libs:\"\n"
     ]
    },
    {
     "data": {
      "text/html": [
       "        <script type=\"text/javascript\">\n",
       "        window.PlotlyConfig = {MathJaxConfig: 'local'};\n",
       "        if (window.MathJax) {MathJax.Hub.Config({SVG: {font: \"STIX-Web\"}});}\n",
       "        if (typeof require !== 'undefined') {\n",
       "        require.undef(\"plotly\");\n",
       "        requirejs.config({\n",
       "            paths: {\n",
       "                'plotly': ['https://cdn.plot.ly/plotly-2.2.0.min']\n",
       "            }\n",
       "        });\n",
       "        require(['plotly'], function(Plotly) {\n",
       "            window._Plotly = Plotly;\n",
       "        });\n",
       "        }\n",
       "        </script>\n",
       "        "
      ]
     },
     "metadata": {},
     "output_type": "display_data"
    }
   ],
   "source": [
    "import numpy as np\n",
    "import pydicom\n",
    "from pydicom.pixel_data_handlers.util import apply_modality_lut \n",
    "import os\n",
    "import matplotlib.pyplot as plt\n",
    "from glob import glob\n",
    "from mpl_toolkits.mplot3d.art3d import Poly3DCollection\n",
    "import scipy.ndimage\n",
    "from scipy.spatial import ConvexHull\n",
    "from skimage import morphology\n",
    "from skimage import measure\n",
    "from skimage.transform import resize\n",
    "from sklearn.cluster import KMeans\n",
    "from plotly import __version__\n",
    "from plotly.offline import download_plotlyjs, init_notebook_mode, plot, iplot\n",
    "import plotly.graph_objects as go\n",
    "import plotly.figure_factory as ff\n",
    "from plotly.graph_objs import *\n",
    "init_notebook_mode(connected=True) \n",
    "\n",
    "import h5py\n",
    "\n",
    "import nibabel as nib\n",
    "import SimpleITK as sitk\n",
    "import sys\n",
    "import time\n",
    "import os\n",
    "import numpy as np\n",
    "import cv2\n",
    "\n",
    "import tensorflow as tf\n",
    "from tensorflow.keras.models import *\n",
    "from tensorflow.keras.layers import *\n",
    "from tensorflow.keras.optimizers import *\n",
    "from tensorflow.keras.callbacks import ModelCheckpoint, ReduceLROnPlateau, EarlyStopping"
   ]
  },
  {
   "cell_type": "markdown",
   "id": "b130b4d2",
   "metadata": {},
   "source": [
    "# Load nifti files"
   ]
  },
  {
   "cell_type": "code",
   "execution_count": 2,
   "id": "6aab3c0a",
   "metadata": {},
   "outputs": [
    {
     "name": "stdout",
     "output_type": "stream",
     "text": [
      "155\n"
     ]
    }
   ],
   "source": [
    "new_img = sitk.ReadImage('BraTS20_Training_001_flair.nii')\n",
    "print(new_img.GetDepth())"
   ]
  },
  {
   "cell_type": "markdown",
   "id": "41323f14",
   "metadata": {},
   "source": [
    "# Convert Nifti file to dicom series"
   ]
  },
  {
   "cell_type": "code",
   "execution_count": 3,
   "id": "60209d58",
   "metadata": {},
   "outputs": [
    {
     "name": "stdout",
     "output_type": "stream",
     "text": [
      "Done\n"
     ]
    }
   ],
   "source": [
    "import SimpleITK as sitk\n",
    "\n",
    "import sys\n",
    "import time\n",
    "import os\n",
    "import numpy as np\n",
    "\n",
    "pixel_dtypes = {\"int16\": np.int16,\n",
    "                \"float64\": np.float64}\n",
    "\n",
    "\n",
    "def writeSlices(series_tag_values, new_img, out_dir, i):\n",
    "    image_slice = new_img[:, :, i]\n",
    "\n",
    "    list(map(lambda tag_value: image_slice.SetMetaData(tag_value[0],\n",
    "                                                       tag_value[1]),\n",
    "             series_tag_values))\n",
    "\n",
    "    image_slice.SetMetaData(\"0008|0012\", time.strftime(\"%Y%m%d\"))\n",
    "    image_slice.SetMetaData(\"0008|0013\", time.strftime(\"%H%M%S\"))\n",
    "\n",
    "    # Setting the type to CT so that the slice location is preserved and\n",
    "    # the thickness is carried over.\n",
    "    image_slice.SetMetaData(\"0008|0060\", \"CT\")\n",
    "\n",
    "    # (0020, 0032) image position patient determines the 3D spacing between\n",
    "    # slices.\n",
    "    #   Image Position (Patient)\n",
    "    image_slice.SetMetaData(\"0020|0032\", '\\\\'.join(\n",
    "        map(str, new_img.TransformIndexToPhysicalPoint((0, 0, i)))))\n",
    "    #   Instance Number\n",
    "    image_slice.SetMetaData(\"0020,0013\", str(i))\n",
    "\n",
    "    # Write to the output directory and add the extension dcm, to force\n",
    "    # writing in DICOM format.\n",
    "    writer.SetFileName(os.path.join(out_dir, str(i) + '.dcm'))\n",
    "    writer.Execute(image_slice)\n",
    "\n",
    "# Create a new series from a numpy array\n",
    "try:\n",
    "    pixel_dtype = pixel_dtypes[\"float64\"]\n",
    "except KeyError:\n",
    "    pixel_dtype = pixel_dtypes[\"int16\"]\n",
    "\n",
    "\n",
    "writer = sitk.ImageFileWriter()\n",
    "# Use the study/series/frame of reference information given in the meta-data\n",
    "# dictionary and not the automatically generated information from the file IO\n",
    "writer.KeepOriginalImageUIDOn()\n",
    "\n",
    "\n",
    "\n",
    "\n",
    "if pixel_dtype == np.float64:\n",
    "    def tag_func(i):\n",
    "        rescale_slope = 0.01  # keep three digits after the decimal point\n",
    "        modification_time = time.strftime(\"%H%M%S\")\n",
    "        modification_date = time.strftime(\"%Y%m%d\")\n",
    "\n",
    "        direction = new_img.GetDirection()\n",
    "        series_tag_values = [\n",
    "        (\"0008|0031\", modification_time),  # Series Time\n",
    "        (\"0008|0021\", modification_date),  # Series Date\n",
    "        (\"0008|0008\", \"DERIVED\\\\SECONDARY\"),  # Image Type\n",
    "        (\"0020|000e\", \"1.2.826.0.1.3680043.2.1125.\"\n",
    "         + modification_date + \".1\" + modification_time),  # Series Instance UID\n",
    "        (\"0020|0037\", '\\\\'.join(map(str, (direction[0], direction[3], direction[6],\n",
    "                                          direction[1], direction[4],\n",
    "                                          direction[7])))),  # Image Orientation\n",
    "        # (Patient)\n",
    "        (\"0008|103e\", \"Created-SimpleITK\")  # Series Description\n",
    "    ]\n",
    "        series_tag_values = series_tag_values + [\n",
    "            ('0028|1053', str(rescale_slope)),  # rescale slope\n",
    "            ('0028|1052', '0'),  # rescale intercept\n",
    "            ('0028|0100', '16'),  # bits allocated\n",
    "            ('0028|0101', '16'),  # bits stored\n",
    "            ('0028|0102', '15'),  # high bit\n",
    "            ('0028|0103', '1'), # pixel representation\n",
    "            ('0020|0013', str(i))] #Instance Number\n",
    "        return series_tag_values\n",
    "\n",
    "# Write slices to output directory\n",
    "list(map(lambda i: writeSlices(tag_func(i), new_img, './brain_dicom', i),\n",
    "         range(new_img.GetDepth())))\n",
    "print('Done')"
   ]
  },
  {
   "cell_type": "code",
   "execution_count": 4,
   "id": "ebc26df6",
   "metadata": {},
   "outputs": [
    {
     "data": {
      "text/plain": [
       "Dataset.file_meta -------------------------------\n",
       "(0002, 0000) File Meta Information Group Length  UL: 254\n",
       "(0002, 0001) File Meta Information Version       OB: b'\\x00\\x01'\n",
       "(0002, 0002) Media Storage SOP Class UID         UI: CT Image Storage\n",
       "(0002, 0003) Media Storage SOP Instance UID      UI: 1.2.826.0.1.3680043.2.1125.1.47235296160749167927709716332197866\n",
       "(0002, 0010) Transfer Syntax UID                 UI: Implicit VR Little Endian\n",
       "(0002, 0012) Implementation Class UID            UI: 1.2.826.0.1.3680043.2.1143.107.104.103.115.3.0.8.111.124.113\n",
       "(0002, 0013) Implementation Version Name         SH: 'GDCM 3.0.8'\n",
       "(0002, 0016) Source Application Entity Title     AE: 'GDCM/ITK 5.2.0'\n",
       "-------------------------------------------------\n",
       "(0008, 0008) Image Type                          CS: ['DERIVED', 'SECONDARY']\n",
       "(0008, 0012) Instance Creation Date              DA: '20211113'\n",
       "(0008, 0013) Instance Creation Time              TM: '210104'\n",
       "(0008, 0016) SOP Class UID                       UI: CT Image Storage\n",
       "(0008, 0018) SOP Instance UID                    UI: 1.2.826.0.1.3680043.2.1125.1.47235296160749167927709716332197866\n",
       "(0008, 0020) Study Date                          DA: '20211113'\n",
       "(0008, 0021) Series Date                         DA: '20211113'\n",
       "(0008, 0030) Study Time                          TM: '210104.879662'\n",
       "(0008, 0031) Series Time                         TM: '210104'\n",
       "(0008, 0050) Accession Number                    SH: ''\n",
       "(0008, 0060) Modality                            CS: 'CT'\n",
       "(0008, 0090) Referring Physician's Name          PN: ''\n",
       "(0008, 103e) Series Description                  LO: 'Created-SimpleITK'\n",
       "(0010, 0010) Patient's Name                      PN: ''\n",
       "(0010, 0020) Patient ID                          LO: ''\n",
       "(0010, 0030) Patient's Birth Date                DA: ''\n",
       "(0010, 0040) Patient's Sex                       CS: ''\n",
       "(0020, 000d) Study Instance UID                  UI: 1.2.826.0.1.3680043.2.1125.1.30749511537734173419873812980344828\n",
       "(0020, 000e) Series Instance UID                 UI: 1.2.826.0.1.3680043.2.1125.20211113.1210104\n",
       "(0020, 0010) Study ID                            SH: ''\n",
       "(0020, 0011) Series Number                       IS: None\n",
       "(0020, 0013) Instance Number                     IS: '0'\n",
       "(0020, 0032) Image Position (Patient)            DS: [0, -239, 0]\n",
       "(0020, 0037) Image Orientation (Patient)         DS: [1, 0, 0, 0, 1, 0]\n",
       "(0028, 0002) Samples per Pixel                   US: 1\n",
       "(0028, 0004) Photometric Interpretation          CS: 'MONOCHROME2'\n",
       "(0028, 0010) Rows                                US: 240\n",
       "(0028, 0011) Columns                             US: 240\n",
       "(0028, 0030) Pixel Spacing                       DS: [1, 1]\n",
       "(0028, 0100) Bits Allocated                      US: 16\n",
       "(0028, 0101) Bits Stored                         US: 16\n",
       "(0028, 0102) High Bit                            US: 15\n",
       "(0028, 0103) Pixel Representation                US: 1\n",
       "(0028, 1052) Rescale Intercept                   DS: '0.0'\n",
       "(0028, 1053) Rescale Slope                       DS: '0.01'\n",
       "(0028, 1054) Rescale Type                        LO: 'US'\n",
       "(7fe0, 0010) Pixel Data                          OW: Array of 115200 elements"
      ]
     },
     "execution_count": 4,
     "metadata": {},
     "output_type": "execute_result"
    }
   ],
   "source": [
    "#Checking our first dicom file\n",
    "a = pydicom.read_file('./brain_dicom/0.dcm')\n",
    "a"
   ]
  },
  {
   "cell_type": "markdown",
   "id": "746d8231",
   "metadata": {},
   "source": [
    "# Resampling input files for AI model input"
   ]
  },
  {
   "cell_type": "code",
   "execution_count": 5,
   "id": "fc2c5fe8",
   "metadata": {},
   "outputs": [],
   "source": [
    "def resample(image, new_spacing=[1,1,1]):\n",
    "    spacing = np.array([1,1,1])\n",
    "\n",
    "\n",
    "    resize_factor = spacing / new_spacing\n",
    "    new_real_shape = image.shape * resize_factor\n",
    "    new_shape = np.round(new_real_shape)\n",
    "    real_resize_factor = new_shape / image.shape\n",
    "    new_spacing = spacing / real_resize_factor\n",
    "    \n",
    "    image = scipy.ndimage.interpolation.zoom(image, real_resize_factor)\n",
    "    \n",
    "    return image"
   ]
  },
  {
   "cell_type": "code",
   "execution_count": 6,
   "id": "33fd2994",
   "metadata": {},
   "outputs": [
    {
     "data": {
      "text/plain": [
       "(240, 240, 155)"
      ]
     },
     "execution_count": 6,
     "metadata": {},
     "output_type": "execute_result"
    }
   ],
   "source": [
    "flair=nib.load('BraTS20_Training_001_flair.nii').get_fdata()\n",
    "flair.shape"
   ]
  },
  {
   "cell_type": "code",
   "execution_count": 7,
   "id": "39568b5f",
   "metadata": {},
   "outputs": [
    {
     "data": {
      "text/plain": [
       "(128, 128, 100)"
      ]
     },
     "execution_count": 7,
     "metadata": {},
     "output_type": "execute_result"
    }
   ],
   "source": [
    "h = flair.shape[0]/128\n",
    "c = flair.shape[2]/100\n",
    "flair = resample(flair,[h,h,c])\n",
    "flair.shape"
   ]
  },
  {
   "cell_type": "code",
   "execution_count": 8,
   "id": "a1f3fb77",
   "metadata": {},
   "outputs": [
    {
     "data": {
      "text/plain": [
       "(240, 240, 155)"
      ]
     },
     "execution_count": 8,
     "metadata": {},
     "output_type": "execute_result"
    }
   ],
   "source": [
    "t1ce = nib.load('BraTS20_Training_001_t1ce.nii').get_fdata()\n",
    "t1ce.shape"
   ]
  },
  {
   "cell_type": "code",
   "execution_count": 9,
   "id": "9325c102",
   "metadata": {},
   "outputs": [
    {
     "data": {
      "text/plain": [
       "(128, 128, 100)"
      ]
     },
     "execution_count": 9,
     "metadata": {},
     "output_type": "execute_result"
    }
   ],
   "source": [
    "t1ce = resample(t1ce,[h,h,c])\n",
    "t1ce.shape"
   ]
  },
  {
   "cell_type": "code",
   "execution_count": 10,
   "id": "07c45e49",
   "metadata": {},
   "outputs": [
    {
     "name": "stdout",
     "output_type": "stream",
     "text": [
      "(100, 128, 128, 2)\n"
     ]
    }
   ],
   "source": [
    "X = np.zeros((100, 128,128, 2))\n",
    "IMG_SIZE=128\n",
    "\n",
    "for j in range(100):\n",
    "     X[j ,:,:,0] = cv2.resize(flair[:,:,j], (IMG_SIZE, IMG_SIZE));\n",
    "     X[j ,:,:,1] = cv2.resize(t1ce[:,:,j], (IMG_SIZE, IMG_SIZE));\n",
    "\n",
    "X = X/np.max(X)\n",
    "print(X.shape)"
   ]
  },
  {
   "cell_type": "markdown",
   "id": "96fd662d",
   "metadata": {},
   "source": [
    "# Model"
   ]
  },
  {
   "cell_type": "code",
   "execution_count": 11,
   "id": "1e7c1da6",
   "metadata": {},
   "outputs": [],
   "source": [
    "IMG_SIZE=128\n",
    "def build_unet(inputs, ker_init, dropout):\n",
    "    conv1 = Conv2D(32, 3, activation = 'relu', padding = 'same', kernel_initializer = ker_init)(inputs)\n",
    "    conv1 = Conv2D(32, 3, activation = 'relu', padding = 'same', kernel_initializer = ker_init)(conv1)\n",
    "    \n",
    "    pool = MaxPooling2D(pool_size=(2, 2))(conv1)\n",
    "    conv = Conv2D(64, 3, activation = 'relu', padding = 'same', kernel_initializer = ker_init)(pool)\n",
    "    conv = Conv2D(64, 3, activation = 'relu', padding = 'same', kernel_initializer = ker_init)(conv)\n",
    "    \n",
    "    pool1 = MaxPooling2D(pool_size=(2, 2))(conv)\n",
    "    conv2 = Conv2D(128, 3, activation = 'relu', padding = 'same', kernel_initializer = ker_init)(pool1)\n",
    "    conv2 = Conv2D(128, 3, activation = 'relu', padding = 'same', kernel_initializer = ker_init)(conv2)\n",
    "    \n",
    "    pool2 = MaxPooling2D(pool_size=(2, 2))(conv2)\n",
    "    conv3 = Conv2D(256, 3, activation = 'relu', padding = 'same', kernel_initializer = ker_init)(pool2)\n",
    "    conv3 = Conv2D(256, 3, activation = 'relu', padding = 'same', kernel_initializer = ker_init)(conv3)\n",
    "    \n",
    "    \n",
    "    pool4 = MaxPooling2D(pool_size=(2, 2))(conv3)\n",
    "    conv5 = Conv2D(512, 3, activation = 'relu', padding = 'same', kernel_initializer = ker_init)(pool4)\n",
    "    conv5 = Conv2D(512, 3, activation = 'relu', padding = 'same', kernel_initializer = ker_init)(conv5)\n",
    "    drop5 = Dropout(dropout)(conv5)\n",
    "\n",
    "    up7 = Conv2D(256, 2, activation = 'relu', padding = 'same', kernel_initializer = ker_init)(UpSampling2D(size = (2,2))(drop5))\n",
    "    merge7 = concatenate([conv3,up7], axis = 3)\n",
    "    conv7 = Conv2D(256, 3, activation = 'relu', padding = 'same', kernel_initializer = ker_init)(merge7)\n",
    "    conv7 = Conv2D(256, 3, activation = 'relu', padding = 'same', kernel_initializer = ker_init)(conv7)\n",
    "    \n",
    "    up8 = Conv2D(128, 2, activation = 'relu', padding = 'same', kernel_initializer = ker_init)(UpSampling2D(size = (2,2))(conv7))\n",
    "    merge8 = concatenate([conv2,up8], axis = 3)\n",
    "    conv8 = Conv2D(128, 3, activation = 'relu', padding = 'same', kernel_initializer = ker_init)(merge8)\n",
    "    conv8 = Conv2D(128, 3, activation = 'relu', padding = 'same', kernel_initializer = ker_init)(conv8)\n",
    "\n",
    "    up9 = Conv2D(64, 2, activation = 'relu', padding = 'same', kernel_initializer = ker_init)(UpSampling2D(size = (2,2))(conv8))\n",
    "    merge9 = concatenate([conv,up9], axis = 3)\n",
    "    conv9 = Conv2D(64, 3, activation = 'relu', padding = 'same', kernel_initializer = ker_init)(merge9)\n",
    "    conv9 = Conv2D(64, 3, activation = 'relu', padding = 'same', kernel_initializer = ker_init)(conv9)\n",
    "    \n",
    "    up = Conv2D(32, 2, activation = 'relu', padding = 'same', kernel_initializer = ker_init)(UpSampling2D(size = (2,2))(conv9))\n",
    "    merge = concatenate([conv1,up], axis = 3)\n",
    "    conv = Conv2D(32, 3, activation = 'relu', padding = 'same', kernel_initializer = ker_init)(merge)\n",
    "    conv = Conv2D(32, 3, activation = 'relu', padding = 'same', kernel_initializer = ker_init)(conv)\n",
    "    \n",
    "    conv10 = Conv2D(4, (1,1), activation = 'softmax')(conv)\n",
    "    \n",
    "    return Model(inputs = inputs, outputs = conv10)\n",
    "\n",
    "input_layer = Input((IMG_SIZE, IMG_SIZE, 2))\n",
    "\n",
    "model = build_unet(input_layer, 'he_normal', 0.2)"
   ]
  },
  {
   "cell_type": "code",
   "execution_count": 12,
   "id": "9922adcc",
   "metadata": {},
   "outputs": [],
   "source": [
    "#Loading the model we have trained\n",
    "model = tf.keras.models.load_model('model_2.hdf5',compile=False)"
   ]
  },
  {
   "cell_type": "code",
   "execution_count": 13,
   "id": "cf631529",
   "metadata": {},
   "outputs": [],
   "source": [
    "#getting the segmentation masks\n",
    "y_pred = model.predict(X)"
   ]
  },
  {
   "cell_type": "code",
   "execution_count": 14,
   "id": "12df917f",
   "metadata": {},
   "outputs": [],
   "source": [
    "#rounding off the label predictions\n",
    "tumor = y_pred[:,:,:,3]\n",
    "# tumor = np.round(tumor)\n",
    "tumor[tumor>0.5]=1\n",
    "tumor[tumor<=0.5]=0"
   ]
  },
  {
   "cell_type": "code",
   "execution_count": 15,
   "id": "169aa858",
   "metadata": {},
   "outputs": [
    {
     "data": {
      "text/plain": [
       "(100, 128, 128)"
      ]
     },
     "execution_count": 15,
     "metadata": {},
     "output_type": "execute_result"
    }
   ],
   "source": [
    "tumor.shape"
   ]
  },
  {
   "cell_type": "markdown",
   "id": "1147676c",
   "metadata": {},
   "source": [
    "# Loading the created dicom series"
   ]
  },
  {
   "cell_type": "code",
   "execution_count": 16,
   "id": "e77c2f1b",
   "metadata": {},
   "outputs": [],
   "source": [
    "brain_paths=glob('brain_dicom/*.dcm')"
   ]
  },
  {
   "cell_type": "code",
   "execution_count": 17,
   "id": "c97c990b",
   "metadata": {},
   "outputs": [],
   "source": [
    "def load_scan(paths):\n",
    "    slices = [pydicom.read_file(path ) for path in paths]\n",
    "    slices.sort(key = lambda x: int(x.InstanceNumber), reverse = False)\n",
    "    try:\n",
    "        slice_thickness = np.abs(slices[0].ImagePositionPatient[2] - slices[1].ImagePositionPatient[2])\n",
    "    except:\n",
    "        slice_thickness = np.abs(slices[0].SliceLocation - slices[1].SliceLocation)\n",
    "        \n",
    "    for s in slices:\n",
    "        s.SliceThickness = slice_thickness\n",
    "        \n",
    "    return slices"
   ]
  },
  {
   "cell_type": "code",
   "execution_count": 18,
   "id": "fdb7fa74",
   "metadata": {},
   "outputs": [],
   "source": [
    "def get_pixels_hu(scans):\n",
    "    image = np.stack([s.pixel_array for s in scans])\n",
    "    # Convert to int16 (from sometimes int16), \n",
    "    # should be possible as values should always be low enough (<32k)\n",
    "    image = image.astype(np.int16)\n",
    "\n",
    "    # Set outside-of-scan pixels to 1\n",
    "    # The intercept is usually -1024, so air is approximately 0\n",
    "    image[image == -2000] = 0\n",
    "    \n",
    "    # Convert to Hounsfield units (HU)\n",
    "    intercept = scans[0].RescaleIntercept\n",
    "    slope = scans[0].RescaleSlope\n",
    "    \n",
    "    if slope != 1:\n",
    "        image = slope * image.astype(np.float64)\n",
    "        image = image.astype(np.int16)\n",
    "        \n",
    "    image += np.int16(intercept)\n",
    "    \n",
    "    return np.array(image, dtype=np.int16)"
   ]
  },
  {
   "cell_type": "code",
   "execution_count": 19,
   "id": "359bef26",
   "metadata": {},
   "outputs": [],
   "source": [
    "brains = load_scan(brain_paths)\n",
    "imgs1 = get_pixels_hu(brains)\n",
    "np.save(f'fullimages_brain.npy', imgs1)"
   ]
  },
  {
   "cell_type": "markdown",
   "id": "ef025d0f",
   "metadata": {},
   "source": [
    "# Volummetric Analysis\n",
    "\n",
    "Here we are calculating the volume for the healthy brain and the tumor"
   ]
  },
  {
   "cell_type": "code",
   "execution_count": 20,
   "id": "a08a4afd",
   "metadata": {},
   "outputs": [],
   "source": [
    "def find_volume(Data,):\n",
    "    Volume=0;\n",
    "    for i in range(Data.shape[0]):\n",
    "        for j in range (Data.shape[1]):\n",
    "            Area = 0.1 * brains[i].PixelSpacing[0] * 0.1 * brains[i].PixelSpacing[1] * np.count_nonzero(Data[i,j])\n",
    "            Volume += 0.1 * brains[i].SliceThickness * Area\n",
    "    return Volume"
   ]
  },
  {
   "cell_type": "code",
   "execution_count": 21,
   "id": "16fabfcc",
   "metadata": {},
   "outputs": [
    {
     "name": "stdout",
     "output_type": "stream",
     "text": [
      "Brain volume: 1342.8850000000098 Tumor volume: 2.8039999999999883\n"
     ]
    }
   ],
   "source": [
    "brain_volume = find_volume(imgs1)\n",
    "tumor_volume = find_volume(tumor)\n",
    "print('Brain volume:',brain_volume,'Tumor volume:',tumor_volume)"
   ]
  },
  {
   "cell_type": "markdown",
   "id": "15dcd0b4",
   "metadata": {},
   "source": [
    "# Visualising the input file and the predictions"
   ]
  },
  {
   "cell_type": "code",
   "execution_count": 22,
   "id": "058050fd",
   "metadata": {},
   "outputs": [
    {
     "data": {
      "image/png": "[encoded data removed]",
      "text/plain": [
       "<Figure size 648x720 with 16 Axes>"
      ]
     },
     "metadata": {
      "needs_background": "light"
     },
     "output_type": "display_data"
    }
   ],
   "source": [
    "file_used= f'./fullimages_brain.npy'\n",
    "imgs_to_process = np.load(file_used).astype(np.float64) \n",
    "\n",
    "def sample_stack(stack, rows=4, cols=4, start_with=20, show_every=4):\n",
    "    fig,ax = plt.subplots(rows,cols,figsize=[9,10])\n",
    "    for i in range(rows*cols):\n",
    "        ind = start_with + i*show_every\n",
    "        ax[int(i/rows),int(i % rows)].set_title(f'slice {ind}')\n",
    "        ax[int(i/rows),int(i % rows)].imshow(stack[ind],cmap='gray')\n",
    "        ax[int(i/rows),int(i % rows)].axis('off')\n",
    "    plt.show()\n",
    "\n",
    "sample_stack(imgs_to_process)"
   ]
  },
  {
   "cell_type": "code",
   "execution_count": 23,
   "id": "addeb7c2",
   "metadata": {},
   "outputs": [
    {
     "data": {
      "image/png": "[encoded data removed]",
      "text/plain": [
       "<Figure size 648x720 with 16 Axes>"
      ]
     },
     "metadata": {
      "needs_background": "light"
     },
     "output_type": "display_data"
    }
   ],
   "source": [
    "def sample_stack(stack, rows=4, cols=4, start_with=20, show_every=5):\n",
    "    fig,ax = plt.subplots(rows,cols,figsize=[9,10])\n",
    "    for i in range(rows*cols):\n",
    "        ind = start_with + i*show_every\n",
    "        ax[int(i/rows),int(i % rows)].set_title(f'slice {ind}')\n",
    "        ax[int(i/rows),int(i % rows)].imshow(stack[ind],cmap='gray')\n",
    "        ax[int(i/rows),int(i % rows)].axis('off')\n",
    "    plt.show()\n",
    "\n",
    "sample_stack(tumor)"
   ]
  },
  {
   "cell_type": "markdown",
   "id": "7f9c1ef8",
   "metadata": {},
   "source": [
    "# Resampling the tumor and brain files"
   ]
  },
  {
   "cell_type": "code",
   "execution_count": 24,
   "id": "7a221d01",
   "metadata": {},
   "outputs": [
    {
     "name": "stdout",
     "output_type": "stream",
     "text": [
      "Shape before resampling: (155, 240, 240)\n",
      "Shape after resampling: (155, 240, 240)\n",
      "Tumor after reshape: (155, 240, 240)\n"
     ]
    }
   ],
   "source": [
    "file_used= f'./fullimages_brain.npy'\n",
    "imgs_to_process = np.load(file_used).astype(np.float64)\n",
    "print(f'Shape before resampling: {imgs_to_process.shape}')\n",
    "imgs_after_resamp = resample(imgs_to_process, [1,1,1])\n",
    "print(f'Shape after resampling: {imgs_after_resamp.shape}')\n",
    "spac = 100/len(imgs_to_process)\n",
    "spac2 = 128/imgs_to_process.shape[1]\n",
    "tumor= resample(tumor,[spac,spac2,spac2])\n",
    "print('Tumor after reshape:',tumor.shape)"
   ]
  },
  {
   "cell_type": "markdown",
   "id": "baa6b43a",
   "metadata": {},
   "source": [
    "# Creating mesh for 3D visualisation"
   ]
  },
  {
   "cell_type": "code",
   "execution_count": 25,
   "id": "92f5ddd8",
   "metadata": {},
   "outputs": [],
   "source": [
    "def make_mesh(image,istransp='true', threshold=-300, step_size=1):\n",
    "\n",
    "    print(\"Transposing surface\")\n",
    "    p = image.transpose(2,1,0)\n",
    "    \n",
    "    print(\"Calculating surface\")\n",
    "    verts, faces, norm, val = measure.marching_cubes(p, threshold, step_size=step_size, allow_degenerate=True)\n",
    "    \n",
    "    return verts, faces"
   ]
  },
  {
   "cell_type": "code",
   "execution_count": 26,
   "id": "87da3912",
   "metadata": {},
   "outputs": [],
   "source": [
    "def plotly_3d(verts, faces, verts2, faces2):\n",
    "    x,y,z = zip(*verts) \n",
    "    x2,y2,z2 = zip(*verts2)\n",
    "       \n",
    "    \n",
    "#     Make the colormap single color since the axes are positional not intensity. \n",
    "    colormap=['rgba(255, 0, 0,0.5)','rgba(255, 0, 0,0.5)']\n",
    "    \n",
    "    fig = ff.create_trisurf(x=x, y=y, z=z, plot_edges=False,\n",
    "                        colormap=colormap,\n",
    "                        show_colorbar=False,\n",
    "                        simplices=faces,\n",
    "                        backgroundcolor='rgb(64, 64, 64)',\n",
    "                        title=\"Interactive Visualization\")\n",
    "    \n",
    "    \n",
    "    colormap2=['rgba(0, 255, 0,0.8)','rgba(0, 255, 0,0.8)']\n",
    "    \n",
    "    fig2 = ff.create_trisurf(x=x2, y=y2, z=z2, plot_edges=False,\n",
    "                        colormap=colormap2,\n",
    "                        show_colorbar=False,\n",
    "                        simplices=faces2,\n",
    "                        backgroundcolor='rgb(64, 64, 64)',\n",
    "                        title=\"Interactive Visualization\")\n",
    "    fig['data'][0].update(opacity=0.2)\n",
    "    \n",
    "    \n",
    "\n",
    "\n",
    "\n",
    "    \n",
    "    data = [fig.data[0],fig2.data[0]]\n",
    "    \n",
    "\n",
    "\n",
    "    fig3 = dict(data=data)\n",
    "    \n",
    "    iplot(fig3)"
   ]
  },
  {
   "cell_type": "code",
   "execution_count": 27,
   "id": "5133c933",
   "metadata": {},
   "outputs": [
    {
     "data": {
      "text/plain": [
       "(155, 240, 240)"
      ]
     },
     "execution_count": 27,
     "metadata": {},
     "output_type": "execute_result"
    }
   ],
   "source": [
    "imgs_after_resamp.shape"
   ]
  },
  {
   "cell_type": "code",
   "execution_count": 28,
   "id": "7eb01569",
   "metadata": {},
   "outputs": [],
   "source": [
    "tumor = tumor*255.0"
   ]
  },
  {
   "cell_type": "code",
   "execution_count": 29,
   "id": "b8597c04",
   "metadata": {},
   "outputs": [
    {
     "data": {
      "text/plain": [
       "(155, 240, 240)"
      ]
     },
     "execution_count": 29,
     "metadata": {},
     "output_type": "execute_result"
    }
   ],
   "source": [
    "tumor.shape"
   ]
  },
  {
   "cell_type": "code",
   "execution_count": 30,
   "id": "b5990a63",
   "metadata": {},
   "outputs": [
    {
     "data": {
      "text/plain": [
       "327.0000000000005"
      ]
     },
     "execution_count": 30,
     "metadata": {},
     "output_type": "execute_result"
    }
   ],
   "source": [
    "np.max(imgs_after_resamp)"
   ]
  },
  {
   "cell_type": "code",
   "execution_count": 31,
   "id": "efb2e3bd",
   "metadata": {},
   "outputs": [
    {
     "data": {
      "text/plain": [
       "378.67282"
      ]
     },
     "execution_count": 31,
     "metadata": {},
     "output_type": "execute_result"
    }
   ],
   "source": [
    "np.max(tumor)"
   ]
  },
  {
   "cell_type": "code",
   "execution_count": 32,
   "id": "5c14bb92",
   "metadata": {},
   "outputs": [
    {
     "name": "stdout",
     "output_type": "stream",
     "text": [
      "Transposing surface\n",
      "Calculating surface\n",
      "Transposing surface\n",
      "Calculating surface\n"
     ]
    }
   ],
   "source": [
    "v, f = make_mesh(imgs_after_resamp,istransp=True, threshold = 20) #350 previously default value\n",
    "v2, f2 = make_mesh(tumor,istransp=False, threshold = 50) #350 previously default value"
   ]
  },
  {
   "cell_type": "markdown",
   "id": "c063e522",
   "metadata": {},
   "source": [
    "# Plotting the 3D Visualization"
   ]
  },
  {
   "cell_type": "code",
   "execution_count": 33,
   "id": "50084098",
   "metadata": {
    "scrolled": false
   },
   "outputs": [
    {
     "data": {
      "text/plain": [
       "'Due to memory restrictions on github we could not run this cell and upload our notebook.\\nWe have attached a drive link which contains the jupyter notebook with this cell run.'"
      ]
     },
     "execution_count": 33,
     "metadata": {},
     "output_type": "execute_result"
    }
   ],
   "source": [
    "'''Due to memory restrictions on github we could not run this cell and upload our notebook.\n",
    "We have attached a drive link which contains the jupyter notebook with this cell run.'''\n",
    "# plotly_3d(v, f,v2,f2)"
   ]
  },
  {
   "cell_type": "markdown",
   "id": "5d74ec1d",
   "metadata": {},
   "source": [
    "# An alternative approach to volume calculation"
   ]
  },
  {
   "cell_type": "code",
   "execution_count": 34,
   "id": "173c8b03",
   "metadata": {},
   "outputs": [
    {
     "name": "stdout",
     "output_type": "stream",
     "text": [
      "Liver volume: 1549.6878445161965 Tumor Volume 47.679166025893885\n"
     ]
    }
   ],
   "source": [
    "liver_volume = ConvexHull(v).volume /1000\n",
    "tumor_volume = ConvexHull(v2).volume/1000\n",
    "print('Liver volume:',liver_volume,'Tumor Volume',tumor_volume)"
   ]
  },
  {
   "cell_type": "code",
   "execution_count": null,
   "id": "73ca288a",
   "metadata": {},
   "outputs": [],
   "source": []
  }
 ],
 "metadata": {
  "kernelspec": {
   "display_name": "Python 3",
   "language": "python",
   "name": "python3"
  },
  "language_info": {
   "codemirror_mode": {
    "name": "ipython",
    "version": 3
   },
   "file_extension": ".py",
   "mimetype": "text/x-python",
   "name": "python",
   "nbconvert_exporter": "python",
   "pygments_lexer": "ipython3",
   "version": "3.8.8"
  }
 },
 "nbformat": 4,
 "nbformat_minor": 5
}
